{
 "cells": [
  {
   "cell_type": "markdown",
   "metadata": {},
   "source": [
    "### Purpose of this workbook is to download youtube (.mp4) video with subtitle"
   ]
  },
  {
   "cell_type": "code",
   "execution_count": 3,
   "metadata": {},
   "outputs": [],
   "source": [
    "#!pip install youtube-transcript-api\n",
    "from youtube_transcript_api import YouTubeTranscriptApi\n",
    "# Download Videos From Youtube\n",
    "from __future__ import unicode_literals\n",
    "import youtube_dl"
   ]
  },
  {
   "cell_type": "code",
   "execution_count": 2,
   "metadata": {},
   "outputs": [],
   "source": [
    "link_youtube = input('Enter Youtube Path:')"
   ]
  },
  {
   "cell_type": "code",
   "execution_count": 5,
   "metadata": {},
   "outputs": [
    {
     "name": "stdout",
     "output_type": "stream",
     "text": [
      "[youtube] 4pXQRmliTcM: Downloading webpage\n",
      "[download] Destination: Embedding Artificial Intelligence in Spreadsheet by Santosh Vutukuri at #ODSC_India-4pXQRmliTcM.mp4\n",
      "[download] 100% of 120.19MiB in 05:53                  \n"
     ]
    }
   ],
   "source": [
    "ydl_opts = {}\n",
    "with youtube_dl.YoutubeDL(ydl_opts) as ydl:\n",
    "    ydl.download([link_youtube])"
   ]
  },
  {
   "cell_type": "code",
   "execution_count": 7,
   "metadata": {},
   "outputs": [],
   "source": [
    "import moviepy.editor as mp\n",
    "import speech_recognition as sr\n",
    "from pydub import AudioSegment"
   ]
  },
  {
   "cell_type": "code",
   "execution_count": 8,
   "metadata": {},
   "outputs": [],
   "source": [
    "video_file = 'C:/Users/v-savutukuri/Documents/Must_Biz/Final_PoC/ODSC_Color.mp4'"
   ]
  },
  {
   "cell_type": "code",
   "execution_count": 9,
   "metadata": {},
   "outputs": [
    {
     "name": "stderr",
     "output_type": "stream",
     "text": [
      "chunk:   0%|          | 0/38298 [00:00<?, ?it/s, now=None]"
     ]
    },
    {
     "name": "stdout",
     "output_type": "stream",
     "text": [
      "MoviePy - Writing audio in C:/Users/v-savutukuri/Documents/Must_Biz/Final_PoC/ODSC.wav\n"
     ]
    },
    {
     "name": "stderr",
     "output_type": "stream",
     "text": [
      "                                                                        "
     ]
    },
    {
     "name": "stdout",
     "output_type": "stream",
     "text": [
      "MoviePy - Done.\n"
     ]
    },
    {
     "name": "stderr",
     "output_type": "stream",
     "text": []
    }
   ],
   "source": [
    "# Extract voice from mp4 file and save to wav\n",
    "myclip = mp.VideoFileClip(video_file)\n",
    "myclip.audio.write_audiofile('C:/Users/v-savutukuri/Documents/Must_Biz/Final_PoC/ODSC.wav')"
   ]
  },
  {
   "cell_type": "code",
   "execution_count": 10,
   "metadata": {},
   "outputs": [],
   "source": [
    "newAudio = AudioSegment.from_wav(\"C:/Users/v-savutukuri/Documents/Must_Biz/Final_PoC/ODSC.wav\")"
   ]
  },
  {
   "cell_type": "code",
   "execution_count": 16,
   "metadata": {},
   "outputs": [],
   "source": [
    "chunk_size = len(newAudio)/100"
   ]
  },
  {
   "cell_type": "code",
   "execution_count": 24,
   "metadata": {},
   "outputs": [],
   "source": [
    "t1 = 1\n",
    "t2 = int(chunk_size)\n",
    "#t1 = t1 * 1000 #Works in milliseconds\n",
    "speech_text = []\n",
    "for i in range(0,int(len(newAudio)/int(chunk_size))):\n",
    "    newsegment = newAudio[t1:t2]\n",
    "    #stamp = str(int(t1/1000))+\"_\"+str(int(t2/1000))\n",
    "    segment_path = 'C:/Users/v-savutukuri/Documents/Must_Biz/Final_PoC/ODSC/odsc_'+str(i)+'.wav'\n",
    "    newsegment.export(segment_path, format=\"wav\")\n",
    "    t1 = t2\n",
    "    t2 = t2 + chunk_size"
   ]
  },
  {
   "cell_type": "code",
   "execution_count": 6,
   "metadata": {},
   "outputs": [],
   "source": [
    "#srt = YouTubeTranscriptApi.get_transcript(link_youtube[link_youtube.find('=')+1:])"
   ]
  }
 ],
 "metadata": {
  "interpreter": {
   "hash": "ca66ce2a36636589c4a8db570f7b81618111e3d6e8af9eb817a93f8dd7996b3a"
  },
  "kernelspec": {
   "display_name": "Python 3",
   "language": "python",
   "name": "python3"
  },
  "language_info": {
   "codemirror_mode": {
    "name": "ipython",
    "version": 3
   },
   "file_extension": ".py",
   "mimetype": "text/x-python",
   "name": "python",
   "nbconvert_exporter": "python",
   "pygments_lexer": "ipython3",
   "version": "3.8.5"
  }
 },
 "nbformat": 4,
 "nbformat_minor": 2
}
